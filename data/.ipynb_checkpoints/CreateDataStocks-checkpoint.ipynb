{
 "cells": [
  {
   "cell_type": "code",
   "execution_count": 3,
   "metadata": {
    "collapsed": true
   },
   "outputs": [],
   "source": [
    "import numpy as np\n",
    "import pandas as pd\n",
    "import matplotlib.pyplot as plt\n",
    "%matplotlib inline\n",
    "import pandas_datareader.data as web\n",
    "import datetime\n",
    "import seaborn as sns \n",
    "from scipy import stats\n",
    "from scipy.stats import norm\n",
    "from scipy.stats import skew\n",
    "from sklearn.preprocessing import StandardScaler\n",
    "sns.set(style = \"whitegrid\", color_codes = True)\n",
    "sns.set(font_scale = 1)\n",
    "#from astropy.table import Table, Column"
   ]
  },
  {
   "cell_type": "code",
   "execution_count": 4,
   "metadata": {
    "collapsed": true
   },
   "outputs": [],
   "source": [
    "#list of all components of CAC40\n",
    "components =['SOLB.BR','LHN.PA','NOKIA.PA','ACA.PA','ATO.PA','SAF.PA','AI.PA','CA.PA','FP.PA','OR.PA',\n",
    "             'AC.PA','EN.PA','SAN','CS.PA','BN.PA','RI.PA','MC.PA','SW.PA','ML.PA','KER.PA','UG.PA',\n",
    "             'EI.PA','SU.PA','VIE.PA','UL','SGO.PA','CAP.PA','DG.PA','VIV.PA','PUB.PA','GLE.PA','BNP.PA',\n",
    "             'RNO.PA','ORA.PA','ENGI.PA','LR.PA','FR.PA','FTI.PA','MT.AS','AIR.PA']\n"
   ]
  },
  {
   "cell_type": "code",
   "execution_count": 5,
   "metadata": {},
   "outputs": [],
   "source": [
    "#Choose Close Value\n",
    "ls_key = 'Adj Close'\n",
    "start = datetime.datetime(2016, 1, 1)\n",
    "end = datetime.datetime(2017, 9, 7)\n",
    "df_component = web.DataReader(components, 'yahoo',start,end)\n",
    "dataComponent = df_component[ls_key]\n",
    "dataComponent.rename(columns = {'SOLB.BR':'Solvay','LHN.PA':'LafargeHolcim','NOKIA.PA':'Nokia','ACA.PA':'Credit Agricole','ATO.PA':'Atos','SAF.PA':'Safran','AI.PA':'Air Liquide','CA.PA':'Carrefour','FP.PA':'Total','OR.PA':'Loreal','AC.PA':'Accor Hotels','EN.PA':'Bouygues','SAN':'Sanofi','CS.PA':'Axa','BN.PA':'Danone','RI.PA':'Pernod Ricard','MC.PA':'Lvmh','SW.PA':'Sodexo','ML.PA':'Michelin','KER.PA':'Kering','UG.PA':'Peugeot','EI.PA':'Essilor Intl','SU.PA':'Schneider Electric','VIE.PA':'Veolia Environ','UL':'Unibail-Rodamco','SGO.PA':'Saint Gobain','CAP.PA':'Cap Gemini','DG.PA':'Vinci','VIV.PA':'Vivendi','PUB.PA':'Publicis Groupe','GLE.PA':'Societe Generale','BNP.PA':'Bnp Paribas','RNO.PA':'Renault','ORA.PA':'Orange','ENGI.PA':'Engie','LR.PA':'Legrand SA','FR.PA':'Valeo','FTI.PA':'TechnipFMC','MT.AS':'Arcelor Mittal','AIR.PA':'Airbus'}, inplace= True)"
   ]
  },
  {
   "cell_type": "code",
   "execution_count": 75,
   "metadata": {},
   "outputs": [
    {
     "data": {
      "text/html": [
       "<div>\n",
       "<style>\n",
       "    .dataframe thead tr:only-child th {\n",
       "        text-align: right;\n",
       "    }\n",
       "\n",
       "    .dataframe thead th {\n",
       "        text-align: left;\n",
       "    }\n",
       "\n",
       "    .dataframe tbody tr th {\n",
       "        vertical-align: top;\n",
       "    }\n",
       "</style>\n",
       "<table border=\"1\" class=\"dataframe\">\n",
       "  <thead>\n",
       "    <tr style=\"text-align: right;\">\n",
       "      <th></th>\n",
       "      <th>Accor Hotels</th>\n",
       "      <th>Credit Agricole</th>\n",
       "      <th>Air Liquide</th>\n",
       "      <th>Airbus</th>\n",
       "      <th>Atos</th>\n",
       "      <th>Danone</th>\n",
       "      <th>Bnp Paribas</th>\n",
       "      <th>Carrefour</th>\n",
       "      <th>Cap Gemini</th>\n",
       "      <th>Axa</th>\n",
       "      <th>...</th>\n",
       "      <th>Safran</th>\n",
       "      <th>Sanofi</th>\n",
       "      <th>Saint Gobain</th>\n",
       "      <th>Solvay</th>\n",
       "      <th>Schneider Electric</th>\n",
       "      <th>Sodexo</th>\n",
       "      <th>Peugeot</th>\n",
       "      <th>Unibail-Rodamco</th>\n",
       "      <th>Veolia Environ</th>\n",
       "      <th>Vivendi</th>\n",
       "    </tr>\n",
       "    <tr>\n",
       "      <th>Date</th>\n",
       "      <th></th>\n",
       "      <th></th>\n",
       "      <th></th>\n",
       "      <th></th>\n",
       "      <th></th>\n",
       "      <th></th>\n",
       "      <th></th>\n",
       "      <th></th>\n",
       "      <th></th>\n",
       "      <th></th>\n",
       "      <th></th>\n",
       "      <th></th>\n",
       "      <th></th>\n",
       "      <th></th>\n",
       "      <th></th>\n",
       "      <th></th>\n",
       "      <th></th>\n",
       "      <th></th>\n",
       "      <th></th>\n",
       "      <th></th>\n",
       "      <th></th>\n",
       "    </tr>\n",
       "  </thead>\n",
       "  <tbody>\n",
       "    <tr>\n",
       "      <th>2016-01-04</th>\n",
       "      <td>37.521660</td>\n",
       "      <td>9.546578</td>\n",
       "      <td>84.394211</td>\n",
       "      <td>58.286797</td>\n",
       "      <td>NaN</td>\n",
       "      <td>57.665009</td>\n",
       "      <td>46.812660</td>\n",
       "      <td>25.209225</td>\n",
       "      <td>80.201035</td>\n",
       "      <td>22.059767</td>\n",
       "      <td>...</td>\n",
       "      <td>61.005882</td>\n",
       "      <td>4.421038</td>\n",
       "      <td>36.653473</td>\n",
       "      <td>89.564995</td>\n",
       "      <td>47.984207</td>\n",
       "      <td>84.214905</td>\n",
       "      <td>15.087237</td>\n",
       "      <td>39.961536</td>\n",
       "      <td>19.882721</td>\n",
       "      <td>16.853674</td>\n",
       "    </tr>\n",
       "    <tr>\n",
       "      <th>2016-01-05</th>\n",
       "      <td>37.174950</td>\n",
       "      <td>9.587029</td>\n",
       "      <td>83.892059</td>\n",
       "      <td>59.464787</td>\n",
       "      <td>NaN</td>\n",
       "      <td>58.025352</td>\n",
       "      <td>47.059425</td>\n",
       "      <td>25.214071</td>\n",
       "      <td>80.752815</td>\n",
       "      <td>22.068830</td>\n",
       "      <td>...</td>\n",
       "      <td>60.682579</td>\n",
       "      <td>4.337970</td>\n",
       "      <td>36.677082</td>\n",
       "      <td>89.443703</td>\n",
       "      <td>48.199760</td>\n",
       "      <td>85.577354</td>\n",
       "      <td>15.223773</td>\n",
       "      <td>39.866837</td>\n",
       "      <td>19.841221</td>\n",
       "      <td>16.937149</td>\n",
       "    </tr>\n",
       "    <tr>\n",
       "      <th>2016-01-06</th>\n",
       "      <td>35.325836</td>\n",
       "      <td>9.357803</td>\n",
       "      <td>82.720497</td>\n",
       "      <td>58.679459</td>\n",
       "      <td>NaN</td>\n",
       "      <td>57.560699</td>\n",
       "      <td>46.154610</td>\n",
       "      <td>24.778009</td>\n",
       "      <td>80.152641</td>\n",
       "      <td>21.987246</td>\n",
       "      <td>...</td>\n",
       "      <td>60.251511</td>\n",
       "      <td>4.162605</td>\n",
       "      <td>35.978203</td>\n",
       "      <td>86.784462</td>\n",
       "      <td>47.346916</td>\n",
       "      <td>85.424919</td>\n",
       "      <td>14.424062</td>\n",
       "      <td>39.298664</td>\n",
       "      <td>19.744389</td>\n",
       "      <td>16.748226</td>\n",
       "    </tr>\n",
       "    <tr>\n",
       "      <th>2016-01-07</th>\n",
       "      <td>34.887630</td>\n",
       "      <td>9.128578</td>\n",
       "      <td>80.812508</td>\n",
       "      <td>57.501465</td>\n",
       "      <td>NaN</td>\n",
       "      <td>56.659832</td>\n",
       "      <td>45.140121</td>\n",
       "      <td>24.535753</td>\n",
       "      <td>78.719963</td>\n",
       "      <td>21.475071</td>\n",
       "      <td>...</td>\n",
       "      <td>59.075871</td>\n",
       "      <td>4.079538</td>\n",
       "      <td>34.429333</td>\n",
       "      <td>84.265182</td>\n",
       "      <td>46.372238</td>\n",
       "      <td>83.929070</td>\n",
       "      <td>14.029083</td>\n",
       "      <td>38.683140</td>\n",
       "      <td>19.569170</td>\n",
       "      <td>16.748226</td>\n",
       "    </tr>\n",
       "    <tr>\n",
       "      <th>2016-01-08</th>\n",
       "      <td>35.658100</td>\n",
       "      <td>9.002729</td>\n",
       "      <td>79.582382</td>\n",
       "      <td>56.275585</td>\n",
       "      <td>NaN</td>\n",
       "      <td>56.640865</td>\n",
       "      <td>43.869728</td>\n",
       "      <td>24.371017</td>\n",
       "      <td>77.296959</td>\n",
       "      <td>21.071678</td>\n",
       "      <td>...</td>\n",
       "      <td>58.399883</td>\n",
       "      <td>3.959551</td>\n",
       "      <td>34.112946</td>\n",
       "      <td>80.831505</td>\n",
       "      <td>46.536243</td>\n",
       "      <td>83.471741</td>\n",
       "      <td>13.868166</td>\n",
       "      <td>38.304359</td>\n",
       "      <td>19.509228</td>\n",
       "      <td>16.475826</td>\n",
       "    </tr>\n",
       "  </tbody>\n",
       "</table>\n",
       "<p>5 rows × 40 columns</p>\n",
       "</div>"
      ],
      "text/plain": [
       "            Accor Hotels  Credit Agricole  Air Liquide     Airbus  Atos  \\\n",
       "Date                                                                      \n",
       "2016-01-04     37.521660         9.546578    84.394211  58.286797   NaN   \n",
       "2016-01-05     37.174950         9.587029    83.892059  59.464787   NaN   \n",
       "2016-01-06     35.325836         9.357803    82.720497  58.679459   NaN   \n",
       "2016-01-07     34.887630         9.128578    80.812508  57.501465   NaN   \n",
       "2016-01-08     35.658100         9.002729    79.582382  56.275585   NaN   \n",
       "\n",
       "               Danone  Bnp Paribas  Carrefour  Cap Gemini        Axa  \\\n",
       "Date                                                                   \n",
       "2016-01-04  57.665009    46.812660  25.209225   80.201035  22.059767   \n",
       "2016-01-05  58.025352    47.059425  25.214071   80.752815  22.068830   \n",
       "2016-01-06  57.560699    46.154610  24.778009   80.152641  21.987246   \n",
       "2016-01-07  56.659832    45.140121  24.535753   78.719963  21.475071   \n",
       "2016-01-08  56.640865    43.869728  24.371017   77.296959  21.071678   \n",
       "\n",
       "              ...         Safran    Sanofi  Saint Gobain     Solvay  \\\n",
       "Date          ...                                                     \n",
       "2016-01-04    ...      61.005882  4.421038     36.653473  89.564995   \n",
       "2016-01-05    ...      60.682579  4.337970     36.677082  89.443703   \n",
       "2016-01-06    ...      60.251511  4.162605     35.978203  86.784462   \n",
       "2016-01-07    ...      59.075871  4.079538     34.429333  84.265182   \n",
       "2016-01-08    ...      58.399883  3.959551     34.112946  80.831505   \n",
       "\n",
       "            Schneider Electric     Sodexo    Peugeot  Unibail-Rodamco  \\\n",
       "Date                                                                    \n",
       "2016-01-04           47.984207  84.214905  15.087237        39.961536   \n",
       "2016-01-05           48.199760  85.577354  15.223773        39.866837   \n",
       "2016-01-06           47.346916  85.424919  14.424062        39.298664   \n",
       "2016-01-07           46.372238  83.929070  14.029083        38.683140   \n",
       "2016-01-08           46.536243  83.471741  13.868166        38.304359   \n",
       "\n",
       "            Veolia Environ    Vivendi  \n",
       "Date                                   \n",
       "2016-01-04       19.882721  16.853674  \n",
       "2016-01-05       19.841221  16.937149  \n",
       "2016-01-06       19.744389  16.748226  \n",
       "2016-01-07       19.569170  16.748226  \n",
       "2016-01-08       19.509228  16.475826  \n",
       "\n",
       "[5 rows x 40 columns]"
      ]
     },
     "execution_count": 75,
     "metadata": {},
     "output_type": "execute_result"
    }
   ],
   "source": [
    "dataComponent.head()"
   ]
  },
  {
   "cell_type": "code",
   "execution_count": 76,
   "metadata": {},
   "outputs": [
    {
     "data": {
      "text/plain": [
       "Atos                  0.956422\n",
       "Kering                0.956422\n",
       "Valeo                 0.811927\n",
       "TechnipFMC            0.612385\n",
       "Safran                0.339450\n",
       "Unibail-Rodamco       0.027523\n",
       "Sanofi                0.027523\n",
       "Solvay                0.016055\n",
       "Vivendi               0.011468\n",
       "Vinci                 0.011468\n",
       "Engie                 0.011468\n",
       "Bouygues              0.011468\n",
       "Essilor Intl          0.011468\n",
       "Bnp Paribas           0.011468\n",
       "Axa                   0.011468\n",
       "Cap Gemini            0.011468\n",
       "Carrefour             0.011468\n",
       "Danone                0.011468\n",
       "Airbus                0.011468\n",
       "Credit Agricole       0.011468\n",
       "Societe Generale      0.011468\n",
       "Accor Hotels          0.011468\n",
       "Veolia Environ        0.011468\n",
       "Orange                0.011468\n",
       "Peugeot               0.011468\n",
       "Sodexo                0.011468\n",
       "Schneider Electric    0.011468\n",
       "Saint Gobain          0.011468\n",
       "Renault               0.011468\n",
       "Pernod Ricard         0.011468\n",
       "Publicis Groupe       0.011468\n",
       "Michelin              0.011468\n",
       "Lvmh                  0.011468\n",
       "Legrand SA            0.006881\n",
       "Loreal                0.006881\n",
       "Nokia                 0.006881\n",
       "Arcelor Mittal        0.006881\n",
       "Total                 0.006881\n",
       "Air Liquide           0.006881\n",
       "LafargeHolcim         0.006881\n",
       "dtype: float64"
      ]
     },
     "execution_count": 76,
     "metadata": {},
     "output_type": "execute_result"
    }
   ],
   "source": [
    "dataComponent.isnull().mean().sort_values(ascending = False)"
   ]
  },
  {
   "cell_type": "code",
   "execution_count": 77,
   "metadata": {
    "collapsed": true
   },
   "outputs": [],
   "source": [
    "dataComponent.to_csv(\"data/dataComponent.csv\", sep =\",\")"
   ]
  },
  {
   "cell_type": "code",
   "execution_count": 60,
   "metadata": {
    "collapsed": true
   },
   "outputs": [],
   "source": [
    "#index Cac40\n",
    "Cac = ['^FCHI']"
   ]
  },
  {
   "cell_type": "code",
   "execution_count": 84,
   "metadata": {
    "collapsed": true
   },
   "outputs": [],
   "source": [
    "df_cac = web.DataReader(Cac, 'yahoo',start,end)\n",
    "cac = df_cac[ls_key]\n",
    "cac.rename(columns = {'^FCHI':'CAC40'}, inplace= True)"
   ]
  },
  {
   "cell_type": "code",
   "execution_count": 85,
   "metadata": {},
   "outputs": [
    {
     "data": {
      "text/plain": [
       "CAC40    1\n",
       "dtype: int64"
      ]
     },
     "execution_count": 85,
     "metadata": {},
     "output_type": "execute_result"
    }
   ],
   "source": [
    "cac.to_csv(\"cac\")"
   ]
  },
  {
   "cell_type": "code",
   "execution_count": 1,
   "metadata": {
    "collapsed": true
   },
   "outputs": [],
   "source": [
    "stocks = ['AAPL','GOOG','AXP', 'IBM', 'XOM', 'F']"
   ]
  },
  {
   "cell_type": "code",
   "execution_count": null,
   "metadata": {
    "collapsed": true
   },
   "outputs": [],
   "source": [
    "daweb.DataReader(components, 'yahoo',start,end)"
   ]
  }
 ],
 "metadata": {
  "kernelspec": {
   "display_name": "Python 3",
   "language": "python",
   "name": "python3"
  },
  "language_info": {
   "codemirror_mode": {
    "name": "ipython",
    "version": 3
   },
   "file_extension": ".py",
   "mimetype": "text/x-python",
   "name": "python",
   "nbconvert_exporter": "python",
   "pygments_lexer": "ipython3",
   "version": "3.6.1"
  }
 },
 "nbformat": 4,
 "nbformat_minor": 2
}
