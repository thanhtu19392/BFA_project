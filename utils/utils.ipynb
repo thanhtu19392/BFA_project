{
 "cells": [
  {
   "cell_type": "code",
   "execution_count": 11,
   "metadata": {
    "collapsed": true
   },
   "outputs": [],
   "source": [
    "import numpy as np\n",
    "import pandas as pd\n",
    "import matplotlib.pyplot as plt\n",
    "%matplotlib inline\n",
    "import warnings\n",
    "warnings.filterwarnings('ignore')\n",
    "import pandas_datareader.data as web\n",
    "import datetime\n",
    "import seaborn as sns \n",
    "from scipy import stats\n",
    "from scipy.stats import norm\n",
    "from scipy.stats import skew\n",
    "from itertools import tee\n",
    "from sklearn.preprocessing import StandardScaler\n",
    "sns.set(style = \"whitegrid\", color_codes = True)\n",
    "sns.set(font_scale = 1)"
   ]
  },
  {
   "cell_type": "code",
   "execution_count": 5,
   "metadata": {
    "collapsed": true
   },
   "outputs": [],
   "source": [
    "def symbol_to_path(symbol):\n",
    "    return 'data/{}.csv'.format(symbol)\n",
    "\n",
    "def add_symbol_to_data_frame(data_frame, symbol, start, end):\n",
    "    return data_frame.join(\n",
    "      get_data_frame(symbol, start, end, dropna = True))"
   ]
  },
  {
   "cell_type": "code",
   "execution_count": 6,
   "metadata": {
    "collapsed": true
   },
   "outputs": [],
   "source": [
    "def get_data_frame(symbol, start, end, dropna = False):\n",
    "    date_range = pd.date_range(start, end)\n",
    "    data_frame = pd.DataFrame(index= date_range)\n",
    "    \n",
    "    symbol_data_frame = pd.read_csv(symbol_to_path(symbol),\n",
    "                             index_col = 'Date',\n",
    "                             parse_dates = True,\n",
    "                             usecols = ['Date', 'Adj Close'],\n",
    "                             na_values = ['NaN'])\n",
    "    \n",
    "    symbol_data_frame = symbol_data_frame.rename(columns = {'Adj Close': symbol})\n",
    "    \n",
    "    data_frame = data_frame.join(symbol_data_frame)\n",
    "\n",
    "    if (dropna == True):\n",
    "        return data_frame.dropna()\n",
    "    else:\n",
    "        return data_frame"
   ]
  },
  {
   "cell_type": "code",
   "execution_count": 7,
   "metadata": {
    "collapsed": true
   },
   "outputs": [],
   "source": [
    "def spy_data_frame(start, end):\n",
    "    return get_data_frame('SPY', start, end, dropna=True)"
   ]
  },
  {
   "cell_type": "code",
   "execution_count": 8,
   "metadata": {
    "collapsed": true
   },
   "outputs": [],
   "source": [
    "def get_data_frame_for_symbols(symbols, start_date, end_date):\n",
    "    df = spy_data_frame(start_date, end_date)\n",
    "    \n",
    "    for symbol in symbols:\n",
    "        df_symbol = get_data_frame(symbol, start_date, end_date, dropna= True)\n",
    "        df = pd.concat([df,df_symbol], axis =1)\n",
    "\n",
    "    return df"
   ]
  },
  {
   "cell_type": "code",
   "execution_count": 9,
   "metadata": {
    "collapsed": true
   },
   "outputs": [],
   "source": [
    "## Plot stock prices \n",
    "def plot_data(df, title, xlabel=\"Date\", ylabel=\"Value\"):\n",
    "    ax = df.plot(title=title, fontsize=12)\n",
    "    ax.set_xlabel(xlabel)\n",
    "    ax.set_ylabel(ylabel)"
   ]
  },
  {
   "cell_type": "code",
   "execution_count": 10,
   "metadata": {
    "collapsed": true
   },
   "outputs": [],
   "source": [
    "def pairwise(iterable):\n",
    "    a, b = tee(iterable)\n",
    "    next(b, None)\n",
    "    return zip(a, b)"
   ]
  },
  {
   "cell_type": "code",
   "execution_count": 25,
   "metadata": {
    "collapsed": true
   },
   "outputs": [],
   "source": [
    "def test():\n",
    "    start_date = '2017-01-01'\n",
    "    end_date = '2017-09-01'\n",
    "\n",
    "    data_frame = spy_data_frame(start_date, end_date)\n",
    "    data_frame.plot()\n",
    "    plt.show()\n"
   ]
  },
  {
   "cell_type": "code",
   "execution_count": 26,
   "metadata": {},
   "outputs": [
    {
     "data": {
      "image/png": "[encoded data removed]",
      "text/plain": [
       "<matplotlib.figure.Figure at 0x7f21baafa4a8>"
      ]
     },
     "metadata": {},
     "output_type": "display_data"
    }
   ],
   "source": [
    "if __name__ == '__main__':\n",
    "    test()"
   ]
  },
  {
   "cell_type": "code",
   "execution_count": null,
   "metadata": {
    "collapsed": true
   },
   "outputs": [],
   "source": []
  }
 ],
 "metadata": {
  "kernelspec": {
   "display_name": "Python 3",
   "language": "python",
   "name": "python3"
  },
  "language_info": {
   "codemirror_mode": {
    "name": "ipython",
    "version": 3
   },
   "file_extension": ".py",
   "mimetype": "text/x-python",
   "name": "python",
   "nbconvert_exporter": "python",
   "pygments_lexer": "ipython3",
   "version": "3.6.1"
  }
 },
 "nbformat": 4,
 "nbformat_minor": 2
}
