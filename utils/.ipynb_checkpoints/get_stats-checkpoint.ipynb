{
 "cells": [
  {
   "cell_type": "code",
   "execution_count": 1,
   "metadata": {
    "collapsed": true
   },
   "outputs": [],
   "source": [
    "import numpy as np\n",
    "import pandas as pd\n",
    "import matplotlib.pyplot as plt\n",
    "%matplotlib inline\n",
    "import warnings\n",
    "warnings.filterwarnings('ignore')\n",
    "import pandas_datareader.data as web\n",
    "import datetime\n",
    "import seaborn as sns \n",
    "from scipy import stats\n",
    "from scipy.stats import norm\n",
    "from scipy.stats import skew\n",
    "from sklearn.preprocessing import StandardScaler\n",
    "sns.set(style = \"whitegrid\", color_codes = True)\n",
    "sns.set(font_scale = 1)"
   ]
  },
  {
   "cell_type": "code",
   "execution_count": 3,
   "metadata": {},
   "outputs": [],
   "source": [
    "from utils import get_data_frame_for_symbols, spy_data_frame, get_data_frame"
   ]
  },
  {
   "cell_type": "code",
   "execution_count": 4,
   "metadata": {
    "collapsed": true
   },
   "outputs": [],
   "source": [
    "def compute_daily_return(data):\n",
    "    daily_return = (data/data.shift(1)) - 1\n",
    "    #daily_return.ix[0,:] = 0\n",
    "    daily_return.fillna(0, inplace= True)\n",
    "    return daily_return"
   ]
  },
  {
   "cell_type": "code",
   "execution_count": 5,
   "metadata": {
    "collapsed": true
   },
   "outputs": [],
   "source": [
    "def compute_culmulative_return(data):\n",
    "    cul_return = (data/data.ix[0,:].values) - 1\n",
    "    return cul_return"
   ]
  },
  {
   "cell_type": "code",
   "execution_count": 6,
   "metadata": {
    "collapsed": true
   },
   "outputs": [],
   "source": [
    "def get_stocks_stas(data_col, start, end, samples_per_year = 252,  daily_rf = 0):\n",
    "    #data_stock = get_data_frame(symbol, start, end, dropna= True)\n",
    "    daily_return = compute_daily_return(data_col)\n",
    "    \n",
    "    data_indice = spy_data_frame(start, end)\n",
    "    indice_daily_return = compute_daily_return(data_indice)\n",
    "    \n",
    "    d = pd.concat([daily_return, indice_daily_return], axis = 1)\n",
    "    #average, standard daily return\n",
    "    column = list(d.columns)\n",
    "    avg_daily_return = d[column[0]].mean()\n",
    "    std_daily_return = d[column[0]].std()\n",
    "    \n",
    "    #covmat = np.cov(d[symbol], d[\"SPY\"])\n",
    "    covmat = np.cov(d[column[1]].fillna(0), d[column[0]].fillna(0))\n",
    "    \n",
    "    beta = covmat[0,1]/covmat[1,1]\n",
    "    alpha= np.mean(d[column[0]])-beta*np.mean(d.SPY)\n",
    "    \n",
    "    #momentum\n",
    "    momentum = np.prod(1 + d[column[0]].tail(12).values) -1\n",
    "    \n",
    "    #sharpe ratio \n",
    "    sharpe_ratio = ((d[column[0]] - daily_rf).mean()/d[column[0]].std()) * np.sqrt(samples_per_year)\n",
    "    \n",
    "    #information ration \n",
    "    infor_ratio = ((d[column[0]] - d.SPY).mean()/d[column[0]].std()) * np.sqrt(samples_per_year)\n",
    "    \n",
    "    return  avg_daily_return, std_daily_return, beta, alpha, momentum, infor_ratio, sharpe_ratio"
   ]
  },
  {
   "cell_type": "code",
   "execution_count": null,
   "metadata": {
    "collapsed": true
   },
   "outputs": [],
   "source": [
    "def stas_vs_indice(portfolio_value, start, end):\n",
    "    stocstasget_stocks_stas"
   ]
  },
  {
   "cell_type": "code",
   "execution_count": 7,
   "metadata": {
    "collapsed": true
   },
   "outputs": [],
   "source": [
    "start_date = '2016-01-01'\n",
    "end_date = '2017-09-01'\n",
    "list_stocks = ['AAPL','GOOG','AMZN','AXP','BAC','BA','KO','FB','IBM','GE', 'GS','HP', 'XOM', 'F','SPY']\n",
    "\n",
    "list_stat = []\n",
    "for i in range(len(list_stocks)):\n",
    "    stock = list_stocks[i]\n",
    "    data_col = get_data_frame(stock, start_date, end_date, dropna= True)\n",
    "    stas = get_stocks_stas(data_col, start_date, end_date)\n",
    "    list_stat.append(stas)\n",
    "\n",
    "columns = [\"avg_daily_return\", \"std_daily_return\", \"beta\", \"alpha\", \"momentum\", \"infor_ratio\", \"sharpe_ratio\"]\n",
    "df_stats = pd.DataFrame(list_stat, index = list_stocks, columns = columns).iloc[:-1,:]\n"
   ]
  },
  {
   "cell_type": "code",
   "execution_count": 20,
   "metadata": {
    "scrolled": true
   },
   "outputs": [
    {
     "data": {
      "text/html": [
       "<div>\n",
       "<style>\n",
       "    .dataframe thead tr:only-child th {\n",
       "        text-align: right;\n",
       "    }\n",
       "\n",
       "    .dataframe thead th {\n",
       "        text-align: left;\n",
       "    }\n",
       "\n",
       "    .dataframe tbody tr th {\n",
       "        vertical-align: top;\n",
       "    }\n",
       "</style>\n",
       "<table border=\"1\" class=\"dataframe\">\n",
       "  <thead>\n",
       "    <tr style=\"text-align: right;\">\n",
       "      <th></th>\n",
       "      <th>avg_daily_return</th>\n",
       "      <th>std_daily_return</th>\n",
       "      <th>beta</th>\n",
       "      <th>alpha</th>\n",
       "      <th>momentum</th>\n",
       "      <th>infor_ratio</th>\n",
       "      <th>sharpe_ratio</th>\n",
       "    </tr>\n",
       "  </thead>\n",
       "  <tbody>\n",
       "    <tr>\n",
       "      <th>BA</th>\n",
       "      <td>0.00150326</td>\n",
       "      <td>0.0138367</td>\n",
       "      <td>0.295811</td>\n",
       "      <td>0.00132756</td>\n",
       "      <td>0.011532</td>\n",
       "      <td>1.04321</td>\n",
       "      <td>1.72466</td>\n",
       "    </tr>\n",
       "    <tr>\n",
       "      <th>AAPL</th>\n",
       "      <td>0.00122337</td>\n",
       "      <td>0.0133669</td>\n",
       "      <td>0.289040</td>\n",
       "      <td>0.00105168</td>\n",
       "      <td>0.019261</td>\n",
       "      <td>0.747467</td>\n",
       "      <td>1.45287</td>\n",
       "    </tr>\n",
       "    <tr>\n",
       "      <th>FB</th>\n",
       "      <td>0.00134881</td>\n",
       "      <td>0.0151274</td>\n",
       "      <td>0.234858</td>\n",
       "      <td>0.00120931</td>\n",
       "      <td>0.011882</td>\n",
       "      <td>0.792115</td>\n",
       "      <td>1.41542</td>\n",
       "    </tr>\n",
       "    <tr>\n",
       "      <th>AMZN</th>\n",
       "      <td>0.00114218</td>\n",
       "      <td>0.0156987</td>\n",
       "      <td>0.210731</td>\n",
       "      <td>0.00101701</td>\n",
       "      <td>0.000072</td>\n",
       "      <td>0.554346</td>\n",
       "      <td>1.15497</td>\n",
       "    </tr>\n",
       "    <tr>\n",
       "      <th>BAC</th>\n",
       "      <td>0.00113577</td>\n",
       "      <td>0.0180169</td>\n",
       "      <td>0.267361</td>\n",
       "      <td>0.000976965</td>\n",
       "      <td>0.000960</td>\n",
       "      <td>0.477371</td>\n",
       "      <td>1.00071</td>\n",
       "    </tr>\n",
       "    <tr>\n",
       "      <th>AXP</th>\n",
       "      <td>0.000737876</td>\n",
       "      <td>0.0131375</td>\n",
       "      <td>0.242301</td>\n",
       "      <td>0.000593955</td>\n",
       "      <td>-0.014304</td>\n",
       "      <td>0.173883</td>\n",
       "      <td>0.891603</td>\n",
       "    </tr>\n",
       "    <tr>\n",
       "      <th>GOOG</th>\n",
       "      <td>0.000621622</td>\n",
       "      <td>0.0114646</td>\n",
       "      <td>0.366360</td>\n",
       "      <td>0.000404014</td>\n",
       "      <td>0.011198</td>\n",
       "      <td>0.0382851</td>\n",
       "      <td>0.86073</td>\n",
       "    </tr>\n",
       "    <tr>\n",
       "      <th>GS</th>\n",
       "      <td>0.00075439</td>\n",
       "      <td>0.01535</td>\n",
       "      <td>0.317636</td>\n",
       "      <td>0.000565723</td>\n",
       "      <td>0.004616</td>\n",
       "      <td>0.165898</td>\n",
       "      <td>0.780165</td>\n",
       "    </tr>\n",
       "    <tr>\n",
       "      <th>KO</th>\n",
       "      <td>0.00032782</td>\n",
       "      <td>0.00764615</td>\n",
       "      <td>0.413918</td>\n",
       "      <td>8.19634e-05</td>\n",
       "      <td>-0.009091</td>\n",
       "      <td>-0.552572</td>\n",
       "      <td>0.680601</td>\n",
       "    </tr>\n",
       "    <tr>\n",
       "      <th>IBM</th>\n",
       "      <td>0.000354969</td>\n",
       "      <td>0.0110594</td>\n",
       "      <td>0.345374</td>\n",
       "      <td>0.000149826</td>\n",
       "      <td>0.011088</td>\n",
       "      <td>-0.343061</td>\n",
       "      <td>0.509516</td>\n",
       "    </tr>\n",
       "    <tr>\n",
       "      <th>XOM</th>\n",
       "      <td>0.000176997</td>\n",
       "      <td>0.0105267</td>\n",
       "      <td>0.354053</td>\n",
       "      <td>-3.33013e-05</td>\n",
       "      <td>-0.011617</td>\n",
       "      <td>-0.628811</td>\n",
       "      <td>0.266916</td>\n",
       "    </tr>\n",
       "    <tr>\n",
       "      <th>HP</th>\n",
       "      <td>-5.42726e-05</td>\n",
       "      <td>0.024156</td>\n",
       "      <td>0.135087</td>\n",
       "      <td>-0.000134511</td>\n",
       "      <td>-0.017135</td>\n",
       "      <td>-0.426006</td>\n",
       "      <td>-0.0356662</td>\n",
       "    </tr>\n",
       "    <tr>\n",
       "      <th>F</th>\n",
       "      <td>-0.000122071</td>\n",
       "      <td>0.0148619</td>\n",
       "      <td>0.279599</td>\n",
       "      <td>-0.000288145</td>\n",
       "      <td>0.050926</td>\n",
       "      <td>-0.764831</td>\n",
       "      <td>-0.130388</td>\n",
       "    </tr>\n",
       "    <tr>\n",
       "      <th>GE</th>\n",
       "      <td>-0.000310344</td>\n",
       "      <td>0.0102996</td>\n",
       "      <td>0.443845</td>\n",
       "      <td>-0.000573976</td>\n",
       "      <td>0.001594</td>\n",
       "      <td>-1.39381</td>\n",
       "      <td>-0.478327</td>\n",
       "    </tr>\n",
       "  </tbody>\n",
       "</table>\n",
       "</div>"
      ],
      "text/plain": [
       "     avg_daily_return std_daily_return      beta        alpha  momentum  \\\n",
       "BA         0.00150326        0.0138367  0.295811   0.00132756  0.011532   \n",
       "AAPL       0.00122337        0.0133669  0.289040   0.00105168  0.019261   \n",
       "FB         0.00134881        0.0151274  0.234858   0.00120931  0.011882   \n",
       "AMZN       0.00114218        0.0156987  0.210731   0.00101701  0.000072   \n",
       "BAC        0.00113577        0.0180169  0.267361  0.000976965  0.000960   \n",
       "AXP       0.000737876        0.0131375  0.242301  0.000593955 -0.014304   \n",
       "GOOG      0.000621622        0.0114646  0.366360  0.000404014  0.011198   \n",
       "GS         0.00075439          0.01535  0.317636  0.000565723  0.004616   \n",
       "KO         0.00032782       0.00764615  0.413918  8.19634e-05 -0.009091   \n",
       "IBM       0.000354969        0.0110594  0.345374  0.000149826  0.011088   \n",
       "XOM       0.000176997        0.0105267  0.354053 -3.33013e-05 -0.011617   \n",
       "HP       -5.42726e-05         0.024156  0.135087 -0.000134511 -0.017135   \n",
       "F        -0.000122071        0.0148619  0.279599 -0.000288145  0.050926   \n",
       "GE       -0.000310344        0.0102996  0.443845 -0.000573976  0.001594   \n",
       "\n",
       "     infor_ratio sharpe_ratio  \n",
       "BA       1.04321      1.72466  \n",
       "AAPL    0.747467      1.45287  \n",
       "FB      0.792115      1.41542  \n",
       "AMZN    0.554346      1.15497  \n",
       "BAC     0.477371      1.00071  \n",
       "AXP     0.173883     0.891603  \n",
       "GOOG   0.0382851      0.86073  \n",
       "GS      0.165898     0.780165  \n",
       "KO     -0.552572     0.680601  \n",
       "IBM    -0.343061     0.509516  \n",
       "XOM    -0.628811     0.266916  \n",
       "HP     -0.426006   -0.0356662  \n",
       "F      -0.764831    -0.130388  \n",
       "GE      -1.39381    -0.478327  "
      ]
     },
     "execution_count": 20,
     "metadata": {},
     "output_type": "execute_result"
    }
   ],
   "source": [
    "df_stats.sort_values(by = 'sharpe_ratio', ascending= False)"
   ]
  },
  {
   "cell_type": "code",
   "execution_count": 28,
   "metadata": {},
   "outputs": [
    {
     "data": {
      "image/png": "[encoded data removed]",
      "text/plain": [
       "<matplotlib.figure.Figure at 0x7fd0270120b8>"
      ]
     },
     "metadata": {},
     "output_type": "display_data"
    }
   ],
   "source": [
    "sns.barplot(data = df_stats.sort_values(by = 'sharpe_ratio', ascending= False).reset_index(), x= 'index', y = 'sharpe_ratio')\n",
    "plt.title(\"Sharpe ratio des actions\")\n",
    "plt.savefig('figure/sharpe_ratio_actions')"
   ]
  },
  {
   "cell_type": "code",
   "execution_count": null,
   "metadata": {
    "collapsed": true
   },
   "outputs": [],
   "source": []
  }
 ],
 "metadata": {
  "kernelspec": {
   "display_name": "Python 3",
   "language": "python",
   "name": "python3"
  },
  "language_info": {
   "codemirror_mode": {
    "name": "ipython",
    "version": 3
   },
   "file_extension": ".py",
   "mimetype": "text/x-python",
   "name": "python",
   "nbconvert_exporter": "python",
   "pygments_lexer": "ipython3",
   "version": "3.6.1"
  }
 },
 "nbformat": 4,
 "nbformat_minor": 2
}
